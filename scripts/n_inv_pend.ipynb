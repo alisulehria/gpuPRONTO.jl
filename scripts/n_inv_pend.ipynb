{
 "cells": [
  {
   "cell_type": "code",
   "execution_count": 24,
   "metadata": {},
   "outputs": [
    {
     "name": "stderr",
     "output_type": "stream",
     "text": [
      "\u001b[32m\u001b[1m  Activating\u001b[22m\u001b[39m environment at `~/.julia/dev/PRONTO.jl/Project.toml`\n"
     ]
    },
    {
     "data": {
      "text/plain": [
       "1"
      ]
     },
     "metadata": {},
     "output_type": "display_data"
    }
   ],
   "source": [
    "using Pkg; Pkg.activate(\"..\")\n",
    "using Base.Threads: @spawn\n",
    "Threads.nthreads()"
   ]
  },
  {
   "cell_type": "code",
   "execution_count": 25,
   "metadata": {},
   "outputs": [
    {
     "data": {
      "text/plain": [
       "set_alpha (generic function with 1 method)"
      ]
     },
     "metadata": {},
     "output_type": "display_data"
    }
   ],
   "source": [
    "using DifferentialEquations\n",
    "using LinearAlgebra\n",
    "using Colors\n",
    "# using ColorSchemes\n",
    "set_alpha(CLR::T, alpha) where {T} = coloralpha(T)(CLR.r, CLR.g, CLR.b, alpha)"
   ]
  },
  {
   "cell_type": "code",
   "execution_count": 35,
   "metadata": {},
   "outputs": [],
   "source": [
    "# interactive, standalone window\n",
    "using GLMakie\n",
    "GLMakie.activate!()"
   ]
  },
  {
   "cell_type": "code",
   "execution_count": 27,
   "metadata": {},
   "outputs": [],
   "source": [
    "# inline plots\n",
    "using CairoMakie\n",
    "CairoMakie.activate!(type = \"png\")\n",
    "CairoMakie.activate!(type = \"svg\")"
   ]
  },
  {
   "cell_type": "code",
   "execution_count": 37,
   "metadata": {},
   "outputs": [],
   "source": [
    "clr_bg = parse(RGBAf, \"#272822\") # background\n",
    "clr_mg = parse(RGBAf, \"#8E8A73\") # mid-ground\n",
    "clr_fg = :white # fg\n",
    "\n",
    "clr_set = [\n",
    "    parse(RGBAf, \"#0072BD\"), # blue\n",
    "    parse(RGBAf, \"#D95319\"), # orange/red\n",
    "    parse(RGBAf, \"#EDB120\"), # yellow\n",
    "    parse(RGBAf, \"#7E2F8E\"), # purple\n",
    "    parse(RGBAf, \"#009E73FF\"), # teal\n",
    "]\n",
    "\n",
    "set_theme!(Theme(\n",
    "    resolution = (1500, 1000),\n",
    "    textcolor = :white,\n",
    "    linewidth = 3,\n",
    "    fontsize = 16,\n",
    "    font = \"Inter\",\n",
    "    color = clr_fg,\n",
    "    palette = (\n",
    "        color = clr_set,\n",
    "    ),\n",
    "    markercolor = :white,\n",
    "    backgroundcolor = clr_bg,\n",
    "    Axis = (\n",
    "        backgroundcolor = clr_bg,\n",
    "        xgridcolor = clr_mg,\n",
    "        ygridcolor = clr_mg, \n",
    "        topspinecolor = clr_mg, \n",
    "        rightspinecolor = clr_mg,\n",
    "        leftspinecolor = clr_mg, \n",
    "        bottomspinecolor = clr_mg,\n",
    "        xtickcolor = clr_mg,\n",
    "        ytickcolor = clr_mg,\n",
    "    ),\n",
    "))\n"
   ]
  },
  {
   "cell_type": "code",
   "execution_count": 39,
   "metadata": {},
   "outputs": [
    {
     "data": {
      "text/plain": [
       "getϕ (generic function with 1 method)"
      ]
     },
     "metadata": {},
     "output_type": "display_data"
    }
   ],
   "source": [
    "## -------------------- plotting helper functions --------------------- ##\n",
    "\n",
    "function phi2xy(ϕ, i)\n",
    "    x = -l*sum(sin.(ϕ[1:i]))\n",
    "    y = l*sum(cos.(ϕ[1:i]))\n",
    "    return x, y\n",
    "end\n",
    "\n",
    "function phis2points(ϕvec)\n",
    "    return [Point2f(phi2xy(ϕvec, i)) for i=1:N]\n",
    "end\n",
    "\n",
    "function colortomap(color, len)\n",
    "    # Colors.lsequential_palette(color.h, )\n",
    "    cmap = range(RGB(1.,1.,1.), stop=color, length=len)\n",
    "    return cmap\n",
    "end\n",
    "\n",
    "function kinetic(x)\n",
    "    ϕ = x[1:N]\n",
    "    ϕd = x[N+1:end]\n",
    "    T = 0\n",
    "    for i = 1:N\n",
    "        T += 1/2 * l^2 * m[i] * sum(sum([ϕd[j] * ϕd[k] * cos(ϕ[j]-ϕ[k]) for j = 1:i, k=1:i]))\n",
    "    end\n",
    "    return T\n",
    "end\n",
    "\n",
    "function potential(x)\n",
    "    ϕ = x[1:N]\n",
    "    V = 0\n",
    "    for i = 1:N\n",
    "        V += m[i] * g * l * sum([cos(ϕ[j]) for j = 1:i])\n",
    "    end\n",
    "    return V\n",
    "end\n",
    "\n",
    "function ϕdϕ(x)\n",
    "    n = Int(length(x)/2)\n",
    "    return (x[1:n], x[n+1:end])\n",
    "end\n",
    "\n",
    "function getϕ(x)\n",
    "    n = Int(length(x)/2)\n",
    "    return x[1:n]\n",
    "end"
   ]
  },
  {
   "cell_type": "code",
   "execution_count": 41,
   "metadata": {},
   "outputs": [
    {
     "data": {
      "text/plain": [
       "make_plots (generic function with 1 method)"
      ]
     },
     "metadata": {},
     "output_type": "display_data"
    }
   ],
   "source": [
    "# plotting code\n",
    "function make_plots(x)\n",
    "    t = x.t[1]:0.01:x.t[end]\n",
    "    ϕt = [map(tx->x(tx)[ix], t) for ix in 1:N]\n",
    "    dϕt = [map(tx->x(tx)[ix], t) for ix in N+1:2N]\n",
    "\n",
    "    fig = Figure()\n",
    "    axs = Axis[]\n",
    "\n",
    "    ax = Axis(fig[1,1]; title=\"ϕ(t)\")\n",
    "    push!(axs, ax)\n",
    "    for ϕ in ϕt\n",
    "        lines!(ax, t, ϕ)\n",
    "    end\n",
    "\n",
    "    ax = Axis(fig[2,1]; title=\"dϕ(t)\")\n",
    "    push!(axs, ax)\n",
    "    for dϕ in dϕt\n",
    "        lines!(ax, t, dϕ)\n",
    "    end\n",
    "\n",
    "    ax = Axis(fig[1,2]; title=\"G(t)\")\n",
    "    push!(axs, ax)\n",
    "    for ix in 1:N\n",
    "        lines!(ax, t, map(tx->G(x(tx)[1:N])[ix], t))\n",
    "    end\n",
    "\n",
    "    # map(tx->C(ϕdϕ(x(tx))...), t)\n",
    "    ax = Axis(fig[2,2]; title=\"C(t)\")\n",
    "    push!(axs, ax)\n",
    "    for ix in 1:N\n",
    "        lines!(ax, t, map(tx->C(ϕdϕ(x(tx))...)[ix], t))\n",
    "    end\n",
    "\n",
    "    # @. potential(getϕ(x(t)))\n",
    "    ax = Axis(fig[1:2,3]; title=\"energy\")\n",
    "    push!(axs, ax)\n",
    "    lines!(ax, t, @. potential(x(t)))\n",
    "    lines!(ax, t, @. kinetic(x(t)))\n",
    "    lines!(ax, t, @. potential(x(t)) + kinetic(x(t)))\n",
    "    \n",
    "    display(fig)\n",
    "    return (fig, axs)\n",
    "end"
   ]
  },
  {
   "cell_type": "code",
   "execution_count": 113,
   "metadata": {},
   "outputs": [
    {
     "data": {
      "text/plain": [
       "2-element Vector{Float64}:\n",
       " -1.0\n",
       "  1.0"
      ]
     },
     "metadata": {},
     "output_type": "display_data"
    }
   ],
   "source": [
    "## ---------------------------- build ODE ------------------------------ ##\n",
    "\n",
    "# parameters\n",
    "g = 9.8\n",
    "l = 1\n",
    "N = 4\n",
    "# m = [1, 20, 1, 1]\n",
    "m = ones(N)\n",
    "T = t -> zeros(N)\n",
    "\n",
    "tspan = (0.0, 40.0)\n",
    "θ₀ = zeros(N)\n",
    "θ₀[N] = π/2\n",
    "θd₀ = zeros(N)\n",
    "\n",
    "# dynamics\n",
    "# mass matrix M:\n",
    "U = UpperTriangular(ones(N,N))\n",
    "L = LowerTriangular(ones(N,N))\n",
    "Linv = inv(L)\n",
    "v1 = ones(N)\n",
    "\n",
    "# ℳ =  (U * m) .* I(N)\n",
    "ℳvec = (U * m) \n",
    "ℳ = [ℳvec[ max(i,j)] for i in 1:N, j in 1:N]\n",
    "𝒞 = ϕ -> [cos(ϕ[i] - ϕ[j]) for i in 1:N, j in 1:N]\n",
    "M = ϕ -> l^2 .* ℳ .* 𝒞(ϕ)\n",
    "# M = ϕ -> [  sum(\n",
    "#                 [  [ l^2 * m[i] * cos(ϕ[a]-ϕ[j]) for j in 1:i ]\n",
    "#                 for i in a:N]\n",
    "#                 ) \n",
    "#             for a in 1:N]\n",
    "\n",
    "# coriolis vector C:\n",
    "# 𝒮 = ϕ -> [sin(ϕ[i] - ϕ[j]) for i in 1:N, j in 1:N]\n",
    "# C = (ϕ, ϕd) -> l^2 .* ℳ .* 𝒮(ϕ) .* (v1*ϕd' - 2ϕd*v1') * ϕd\n",
    "# C = (ϕ, ϕd) -> [ sum(\n",
    "#                     [ sum(\n",
    "#                         [ -l^2 * m[i] * sin(ϕ[a]-ϕ[j]) * (ϕd[j]^2 + 2*ϕd[a]*ϕd[j]) \n",
    "#                         for j in 1:i ]) \n",
    "#                     for i in a:N]) \n",
    "#                 for a in 1:N]\n",
    "# C = (ϕ, ϕd) -> 1^2 * sum([m[i] * 𝒮[i,j]])\n",
    "N=2\n",
    "C = (ϕ, ϕd) ->[ sum(\n",
    "                    [ sum(\n",
    "                        [ l^2 * m[i] * sin(ϕ[a]-ϕ[j]) * ϕd[j]^2 \n",
    "                        for j in 1:i ]) \n",
    "                    for i in a:N]) \n",
    "                for a in 1:N]\n",
    "\n",
    "# body force vector G:\n",
    "G = ϕ -> @. -g*l*ℳvec*sin(ϕ)\n",
    "\n",
    "\n",
    "# ODE solver formulation:\n",
    "function f!(dx, x, T, t)\n",
    "    # L: θ -> ϕ, Linv: ϕ -> θ\n",
    "    θ = x[1:N]; θd = x[N+1:end]\n",
    "    ϕ = L * θ\n",
    "    ϕd = L * θd\n",
    "    θdd = Linv*inv(M(ϕ)) * (-C(ϕ, ϕd) - G(ϕ) + Linv*T(t))\n",
    "    dx[1:N] = θd; dx[N+1:end] = θdd\n",
    "end\n",
    "\n",
    "function fϕ!(dx, x, T, t)\n",
    "    # x = [ϕ,dϕ], dx = [dϕ,ddϕ]\n",
    "    ϕ = x[1:N]\n",
    "    dϕ = dx[1:N] .= x[N+1:end]\n",
    "    dx[N+1:end] .= inv(M(ϕ)) * (-C(ϕ, dϕ) - G(ϕ) + Linv*T(t))\n",
    "end\n",
    "\n",
    "C([0, pi/2], [1, 1])"
   ]
  },
  {
   "cell_type": "code",
   "execution_count": 109,
   "metadata": {},
   "outputs": [],
   "source": [
    "## ---------------------------- solve ODE ------------------------------ ##\n",
    "\n",
    "# x = solve(ODEProblem(fϕ!, [θ₀; θd₀], tspan, T));\n",
    "x = solve(ODEProblem(fϕ!, [θ₀; θd₀], tspan, T), Rosenbrock23()) # matlab ode23s\n",
    "# x = solve(ODEProblem(fϕ!, [θ₀; θd₀], tspan, T), TRBDF2())\n",
    "# x = solve(ODEProblem(fϕ!, [θ₀; θd₀], tspan, T), BS3()) ;# matlab ode23\n"
   ]
  },
  {
   "cell_type": "code",
   "execution_count": 110,
   "metadata": {},
   "outputs": [],
   "source": [
    "make_plots(x);"
   ]
  },
  {
   "cell_type": "code",
   "execution_count": 69,
   "metadata": {},
   "outputs": [
    {
     "name": "stdout",
     "output_type": "stream",
     "text": [
      "ϕ = [ui[1:2] for ui = (x(tp)).u] = [[15.879545853813015, 18.33072044265601], [15.943159926102004, 18.342447229244897], [16.0047727725859, 18.350439331246026], [16.0644868373616, 18.35452975783393], [16.122442949269214, 18.354546047373383], [16.178820321892037, 18.35031026741939], [16.233836553556575, 18.341639014717202], [16.28774762733251, 18.328343415202323], [16.34088963864876, 18.310155264090348], [16.393643894381963, 18.28672394683267], [16.446469013597813, 18.257593401007245], [16.50005293927264, 18.221990126052134], [16.555314895528475, 18.178820227189693], [16.613478939550394, 18.12656257771878], [16.67631959478038, 18.062863553405563], [16.74697637947467, 17.983348359735015], [16.83168314801449, 17.879196542040482], [16.943694536502846, 17.731434281059016], [17.122224913974943, 17.483818603419113], [17.397600348877038, 17.094102531647305], [17.58502797071922, 16.830468277381073]]\n",
      "dϕ = [ui[3:4] for ui = (x(tp)).u] = "
     ]
    },
    {
     "name": "stdout",
     "output_type": "stream",
     "text": [
      "[[6.465976767216722, 1.3482922491330427], [6.261874031402921, 0.9806970767426789], [6.065499182346242, 0.5991803255122974], [5.8808414446216, 0.20303291135654533], [5.712052360071486, -0.20913881486137756], [5.56344578780604, -0.6394130673295427], [5.43949790420298, -1.0905526252874613], [5.344847202907672, -1.5660048330258913], [5.286619033949523, -2.0736279364426986], [5.272266181073197, -2.6230683417930547], [5.311382485454047, -3.227332952160286], [5.4243188520700265, -3.9154323170770975], [5.64229371269233, -4.732548481498853], [6.015691362877854, -5.751980162922124], [6.619751621967826, -7.084178343034828], [7.621025472095183, -8.972671989900247], [9.494520629646818, -12.105155242754357], [13.482467956297883, -18.272957846206054], [23.783268137373092, -33.472879413737864], [25.136872720896225, -35.576579317767354], [13.889042555406222, -19.348872551708308]]\n"
     ]
    },
    {
     "data": {
      "text/plain": [
       "21-element Vector{Vector{Float64}}:\n",
       " [9.94657492766688, 15.522052426658298]\n",
       " [7.652350129459034, 18.20373835590236]\n",
       " [4.9370184319346, 21.09355011486956]\n",
       " [1.7654927742137656, 24.221341055221426]\n",
       " [-1.920070745759496, 27.63489385512405]\n",
       " [-6.2064883283895576, 31.402811854737713]\n",
       " [-11.216076099651618, 35.617604998502635]\n",
       " [-17.113153063030875, 40.39884850602594]\n",
       " [-24.17033145337118, 45.966028519583034]\n",
       " [-32.7612343254992, 52.60065240548631]\n",
       " ⋮\n",
       " [-75.69659872419788, 85.12195381574931]\n",
       " [-102.11924715672838, 105.21734726001503]\n",
       " [-141.53956531182817, 135.28282227399228]\n",
       " [-205.23383763158918, 184.04759372874193]\n",
       " [-326.03145300691415, 277.18836391540816]\n",
       " [-585.8828548268989, 478.0633261924225]\n",
       " [-959.6317824614812, 763.3663899832777]\n",
       " [912.7963616549885, -723.3697506773559]\n",
       " [624.5904112845055, -500.2869737718404]"
      ]
     },
     "metadata": {},
     "output_type": "display_data"
    }
   ],
   "source": [
    "tp = 2.85:.01:2.95\n",
    "tp = 2.7:.01:2.9\n",
    "@show ϕ = [ui[1:2] for ui in x(tp).u]\n",
    "@show dϕ = [ui[3:4] for ui in x(tp).u]\n",
    "Ctp = C.(ϕ, dϕ)"
   ]
  }
 ],
 "metadata": {
  "kernelspec": {
   "display_name": "Julia 1.6.2",
   "language": "julia",
   "name": "julia-1.6"
  },
  "language_info": {
   "file_extension": ".jl",
   "mimetype": "application/julia",
   "name": "julia",
   "version": "1.6.2"
  },
  "orig_nbformat": 4
 },
 "nbformat": 4,
 "nbformat_minor": 2
}
