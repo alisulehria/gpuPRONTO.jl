{
 "cells": [
  {
   "cell_type": "code",
   "execution_count": 1,
   "metadata": {},
   "outputs": [
    {
     "name": "stderr",
     "output_type": "stream",
     "text": [
      "\u001b[32m\u001b[1m  Activating\u001b[22m\u001b[39m project at `c:\\Users\\mantas\\.julia\\dev\\PRONTO`\n"
     ]
    }
   ],
   "source": [
    "import Pkg; Pkg.activate(\"..\")\n",
    "using Symbolics\n",
    "\n",
    "\n",
    "\n",
    "H0 = [0 0 1 0;\n",
    "      0 0 0 -1;\n",
    "     -1 0 0 0;\n",
    "      0 1 0 0]\n",
    "\n",
    "H1 = [0 -1 0 0;\n",
    "      1 0 0 0;\n",
    "      0 0 0 -1;\n",
    "      0 0 1 0]\n",
    "\n",
    "f(x,u,t) =(H0 + u*H1)*x;\n",
    "fx(x,u,t) = H0 + u*H1;\n",
    "fu(x,u,t) = H1*x;"
   ]
  },
  {
   "cell_type": "code",
   "execution_count": 2,
   "metadata": {},
   "outputs": [
    {
     "data": {
      "text/latex": [
       "\\begin{equation}\n",
       "\\left[\n",
       "\\begin{array}{cccc}\n",
       "0 &  - u & 1 & 0 \\\\\n",
       "u & 0 & 0 & -1 \\\\\n",
       "-1 & 0 & 0 &  - u \\\\\n",
       "0 & 1 & u & 0 \\\\\n",
       "\\end{array}\n",
       "\\right]\n",
       "\\end{equation}\n"
      ],
      "text/plain": [
       "4×4 Matrix{Num}:\n",
       "  0  -u  1   0\n",
       "  u   0  0  -1\n",
       " -1   0  0  -u\n",
       "  0   1  u   0"
      ]
     },
     "metadata": {},
     "output_type": "display_data"
    }
   ],
   "source": [
    "@variables x u t\n",
    "fx_sym = Symbolics.derivative(f(x,u,t), x)"
   ]
  },
  {
   "cell_type": "code",
   "execution_count": 3,
   "metadata": {},
   "outputs": [
    {
     "data": {
      "text/latex": [
       "\\begin{equation}\n",
       "\\left[\n",
       "\\begin{array}{cccc}\n",
       "0 &  - u & 1 & 0 \\\\\n",
       "u & 0 & 0 & -1 \\\\\n",
       "-1 & 0 & 0 &  - u \\\\\n",
       "0 & 1 & u & 0 \\\\\n",
       "\\end{array}\n",
       "\\right]\n",
       "\\end{equation}\n"
      ],
      "text/plain": [
       "4×4 Matrix{Num}:\n",
       "  0  -u  1   0\n",
       "  u   0  0  -1\n",
       " -1   0  0  -u\n",
       "  0   1  u   0"
      ]
     },
     "metadata": {},
     "output_type": "display_data"
    }
   ],
   "source": [
    "fx(x,u,t)"
   ]
  },
  {
   "cell_type": "code",
   "execution_count": 10,
   "metadata": {},
   "outputs": [
    {
     "data": {
      "text/plain": [
       "(:(function (x, u, t)\n",
       "      \u001b[90m#= C:\\Users\\mantas\\.julia\\packages\\SymbolicUtils\\v2ZkM\\src\\code.jl:349 =#\u001b[39m\n",
       "      \u001b[90m#= C:\\Users\\mantas\\.julia\\packages\\SymbolicUtils\\v2ZkM\\src\\code.jl:350 =#\u001b[39m\n",
       "      \u001b[90m#= C:\\Users\\mantas\\.julia\\packages\\SymbolicUtils\\v2ZkM\\src\\code.jl:351 =#\u001b[39m\n",
       "      begin\n",
       "          \u001b[90m#= C:\\Users\\mantas\\.julia\\packages\\SymbolicUtils\\v2ZkM\\src\\code.jl:444 =#\u001b[39m\n",
       "          (SymbolicUtils.Code.create_array)(Array, nothing, Val{2}(), Val{(4, 4)}(), 0, u, -1, 0, (*)(-1, u), 0, 0, 1, 1, 0, 0, u, 0, -1, (*)(-1, u), 0)\n",
       "      end\n",
       "  end), :(function (ˍ₋out, x, u, t)\n",
       "      \u001b[90m#= C:\\Users\\mantas\\.julia\\packages\\SymbolicUtils\\v2ZkM\\src\\code.jl:349 =#\u001b[39m\n",
       "      \u001b[90m#= C:\\Users\\mantas\\.julia\\packages\\SymbolicUtils\\v2ZkM\\src\\code.jl:350 =#\u001b[39m\n",
       "      \u001b[90m#= C:\\Users\\mantas\\.julia\\packages\\SymbolicUtils\\v2ZkM\\src\\code.jl:351 =#\u001b[39m\n",
       "      begin\n",
       "          \u001b[90m#= C:\\Users\\mantas\\.julia\\packages\\Symbolics\\zTScT\\src\\build_function.jl:452 =#\u001b[39m\n",
       "          \u001b[90m#= C:\\Users\\mantas\\.julia\\packages\\SymbolicUtils\\v2ZkM\\src\\code.jl:398 =#\u001b[39m @inbounds begin\n",
       "                  \u001b[90m#= C:\\Users\\mantas\\.julia\\packages\\SymbolicUtils\\v2ZkM\\src\\code.jl:394 =#\u001b[39m\n",
       "                  ˍ₋out[1] = 0\n",
       "                  ˍ₋out[2] = u\n",
       "                  ˍ₋out[3] = -1\n",
       "                  ˍ₋out[4] = 0\n",
       "                  ˍ₋out[5] = (*)(-1, u)\n",
       "                  ˍ₋out[6] = 0\n",
       "                  ˍ₋out[7] = 0\n",
       "                  ˍ₋out[8] = 1\n",
       "                  ˍ₋out[9] = 1\n",
       "                  ˍ₋out[10] = 0\n",
       "                  ˍ₋out[11] = 0\n",
       "                  ˍ₋out[12] = u\n",
       "                  ˍ₋out[13] = 0\n",
       "                  ˍ₋out[14] = -1\n",
       "                  ˍ₋out[15] = (*)(-1, u)\n",
       "                  ˍ₋out[16] = 0\n",
       "                  \u001b[90m#= C:\\Users\\mantas\\.julia\\packages\\SymbolicUtils\\v2ZkM\\src\\code.jl:396 =#\u001b[39m\n",
       "                  nothing\n",
       "              end\n",
       "      end\n",
       "  end))"
      ]
     },
     "metadata": {},
     "output_type": "display_data"
    }
   ],
   "source": [
    "fx_exp = build_function(fx_sym, x, u, t)"
   ]
  },
  {
   "cell_type": "code",
   "execution_count": 11,
   "metadata": {},
   "outputs": [
    {
     "data": {
      "text/plain": [
       "#7 (generic function with 1 method)"
      ]
     },
     "metadata": {},
     "output_type": "display_data"
    }
   ],
   "source": [
    "fx_gen = eval(fx_exp[1])"
   ]
  },
  {
   "cell_type": "code",
   "execution_count": 12,
   "metadata": {},
   "outputs": [
    {
     "data": {
      "text/latex": [
       "\\begin{equation}\n",
       "\\left[\n",
       "\\begin{array}{cccc}\n",
       "0 &  - u & 1 & 0 \\\\\n",
       "u & 0 & 0 & -1 \\\\\n",
       "-1 & 0 & 0 &  - u \\\\\n",
       "0 & 1 & u & 0 \\\\\n",
       "\\end{array}\n",
       "\\right]\n",
       "\\end{equation}\n"
      ],
      "text/plain": [
       "4×4 Matrix{Num}:\n",
       "  0  -u  1   0\n",
       "  u   0  0  -1\n",
       " -1   0  0  -u\n",
       "  0   1  u   0"
      ]
     },
     "metadata": {},
     "output_type": "display_data"
    }
   ],
   "source": [
    "fx_gen(x,u,t)"
   ]
  },
  {
   "cell_type": "code",
   "execution_count": 13,
   "metadata": {},
   "outputs": [
    {
     "data": {
      "text/plain": [
       "4×4 Matrix{Int64}:\n",
       "  0  -2  1   0\n",
       "  2   0  0  -1\n",
       " -1   0  0  -2\n",
       "  0   1  2   0"
      ]
     },
     "metadata": {},
     "output_type": "display_data"
    }
   ],
   "source": [
    "fx_gen(1,2,3)"
   ]
  },
  {
   "cell_type": "code",
   "execution_count": 18,
   "metadata": {},
   "outputs": [
    {
     "data": {
      "text/plain": [
       "4×4 Matrix{Int64}:\n",
       "  0  -2  1   0\n",
       "  2   0  0  -1\n",
       " -1   0  0  -2\n",
       "  0   1  2   0"
      ]
     },
     "metadata": {},
     "output_type": "display_data"
    }
   ],
   "source": [
    "fx(1,2,3)"
   ]
  },
  {
   "cell_type": "code",
   "execution_count": null,
   "metadata": {},
   "outputs": [],
   "source": []
  }
 ],
 "metadata": {
  "kernelspec": {
   "display_name": "Julia 1.7.2",
   "language": "julia",
   "name": "julia-1.7"
  },
  "language_info": {
   "file_extension": ".jl",
   "mimetype": "application/julia",
   "name": "julia",
   "version": "1.7.2"
  },
  "orig_nbformat": 4
 },
 "nbformat": 4,
 "nbformat_minor": 2
}
